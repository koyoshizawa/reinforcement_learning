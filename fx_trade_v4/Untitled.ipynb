{
 "cells": [
  {
   "cell_type": "markdown",
   "metadata": {},
   "source": [
    "## kerasでDQNを組み直さないとダメそう"
   ]
  },
  {
   "cell_type": "code",
   "execution_count": 25,
   "metadata": {},
   "outputs": [],
   "source": [
    "import myenv\n",
    "import numpy\n",
    "import pandas\n",
    "import gym\n",
    "from datetime import datetime\n",
    "from pandas.core import resample\n",
    "from keras.models import model_from_json\n",
    "from rl.agents.dqn import DQNAgent\n",
    "import myenv\n",
    "import numpy as np\n",
    "import pandas\n",
    "import gym\n",
    "from keras.models import Sequential\n",
    "from keras.layers import Dense, Activation, Flatten\n",
    "from keras.optimizers import Adam\n",
    "\n",
    "from rl.agents.dqn import DQNAgent\n",
    "import rl.callbacks\n",
    "from rl.policy import BoltzmannQPolicy\n",
    "from rl.memory import SequentialMemory"
   ]
  },
  {
   "cell_type": "code",
   "execution_count": 11,
   "metadata": {},
   "outputs": [],
   "source": [
    "def str_date_to_datetime_01(str_date: str) -> datetime:\n",
    "    \"\"\"\n",
    "    yyyy-mm-ddTHH:MM:SS.ffffffZ -> datetime\n",
    "    :param str_date:\n",
    "    :return:\n",
    "    \"\"\"\n",
    "    return datetime.strptime(str_date, '%Y-%m-%dT%H:%M:%S.%fZ')\n",
    "class TechnicalIndex(object):\n",
    "\n",
    "    @staticmethod\n",
    "    def get_simple_moving_average(data: pandas.Series, window: int):\n",
    "        \"\"\"\n",
    "\n",
    "        :param data: データ\n",
    "        :param window: x日移動平均\n",
    "        :return:\n",
    "        \"\"\"\n",
    "        return pandas.Series.rolling(data, window=window).mean()\n",
    "\n",
    "    @staticmethod\n",
    "    def get_bollinger_band(data: pandas.Series, window: int, deviation: int):\n",
    "        \"\"\"\n",
    "        ボリンジャーバンドを返す\n",
    "        :param data: データ\n",
    "        :param deviation: sigma^x\n",
    "        :return: 上限, 下限\n",
    "        \"\"\"\n",
    "        # 移動平均線の計算\n",
    "        base = TechnicalIndex.get_simple_moving_average(data, window)\n",
    "        # シグマの計算\n",
    "        sigma = pandas.Series.rolling(data, window=window).std(ddof=0)\n",
    "\n",
    "        upper_sigma = base + sigma**deviation\n",
    "        lower_sigma = base - sigma**deviation\n",
    "\n",
    "        return upper_sigma, lower_sigma\n",
    "def get_data(file_path):\n",
    "    # データ取得\n",
    "    data = dict(pandas.read_json(file_path)['candles'])\n",
    "    # DFに変形するために整形\n",
    "    columns = ['time', 'open', 'high', 'low', 'close']\n",
    "    # columns = ['time', 'close']\n",
    "\n",
    "    d = dict()\n",
    "    for c in columns:\n",
    "        d[c] = []\n",
    "    for i in range(len(data)):\n",
    "        for c in columns:\n",
    "            if c == columns[0]:\n",
    "                d[c].append(data[i][c])\n",
    "            else:\n",
    "                d[c].append((data[i][c + 'Ask'] + data[i][c + 'Bid']) / 2)\n",
    "    # DFに変換\n",
    "    df = pandas.DataFrame.from_dict(d)\n",
    "    # timeをpythonのdatetime型に変換\n",
    "    df['time'] = df['time'].map(str_date_to_datetime_01)\n",
    "    # timeをインデックスにセット\n",
    "    df.set_index('time', inplace=True)\n",
    "    return df\n",
    "\n",
    "def make_obs(data):\n",
    "    \"\"\"\n",
    "    observation 作成\n",
    "    \"\"\"\n",
    "\n",
    "    # 本ステップ対象のobsを取得 TODO\n",
    "    target = data.iloc[:read_index][data.columns]\n",
    "\n",
    "    ma25 = TechnicalIndex.get_simple_moving_average(target['close'], 25)[-1]\n",
    "    ma75 = TechnicalIndex.get_simple_moving_average(target['close'], 75)[-1]\n",
    "    ma125 = TechnicalIndex.get_simple_moving_average(target['close'], 125)[-1]\n",
    "    bb25_u, bb25_l = TechnicalIndex.get_bollinger_band(target['close'], 25, 2)\n",
    "    bb75_u, bb75_l = TechnicalIndex.get_bollinger_band(target['close'], 75, 2)\n",
    "    m15_1 = target['close'][-1]\n",
    "    m15_2 = target['close'][-2]\n",
    "    m15_3 = target['close'][-3]\n",
    "\n",
    "\n",
    "    # 正規化(最後の1m closedataを基準とする)\n",
    "    ma25= ma25/m15_1\n",
    "    ma75 = ma75 /m15_1\n",
    "    ma125 = ma125 / m15_1\n",
    "    bb25 = bb25_u[-1] - bb25_l[-1]\n",
    "    bb75 = bb75_u[-1] - bb75_l[-1]\n",
    "    m15_2 = m15_2 /m15_1\n",
    "    m15_3 = m15_3/ m15_1\n",
    "\n",
    "    return numpy.array([m15_1, m15_2, m15_3, ma25, ma75, ma125, bb25, bb75])"
   ]
  },
  {
   "cell_type": "code",
   "execution_count": 63,
   "metadata": {},
   "outputs": [
    {
     "name": "stdout",
     "output_type": "stream",
     "text": [
      "\u001b[33mWARN: gym.spaces.Box autodetected dtype as <class 'numpy.float32'>. Please provide explicit dtype.\u001b[0m\n"
     ]
    }
   ],
   "source": [
    "ENV_NAME = 'myenv-v4'\n",
    "env = gym.make(ENV_NAME)\n",
    "read_index = 450\n",
    "nb_actions = env.action_space.n\n",
    "memory = SequentialMemory(limit=50000, window_length=1)\n",
    "\n",
    "model = model_from_json(open('dqn_myenv-v4_model.json').read())\n",
    "model.load_weights('dqn_myenv-v4_weights.h5f')"
   ]
  },
  {
   "cell_type": "code",
   "execution_count": 64,
   "metadata": {},
   "outputs": [
    {
     "data": {
      "text/plain": [
       "array([8.97655000e+01, 1.00077981e+00, 1.00027293e+00, 1.00130161e+00,\n",
       "       9.97342780e-01, 9.92770764e-01, 1.41069488e-02, 3.01673065e-01])"
      ]
     },
     "execution_count": 64,
     "metadata": {},
     "output_type": "execute_result"
    }
   ],
   "source": [
    "data = get_data('fx_data.json')\n",
    "obs = make_obs(data)\n",
    "obs"
   ]
  },
  {
   "cell_type": "code",
   "execution_count": 65,
   "metadata": {},
   "outputs": [
    {
     "name": "stderr",
     "output_type": "stream",
     "text": [
      "/Users/KoYoshizawa/.pyenv/versions/3.5.2/envs/fx_trade/lib/python3.5/site-packages/keras/models.py:1153: UserWarning: Network returning invalid probability values. The last layer might not normalize predictions into probabilities (like softmax or sigmoid would).\n",
      "  warnings.warn('Network returning invalid probability values. '\n"
     ]
    }
   ],
   "source": [
    "action = model.predict_proba(numpy.array([[obs]]))"
   ]
  },
  {
   "cell_type": "code",
   "execution_count": 66,
   "metadata": {},
   "outputs": [
    {
     "data": {
      "text/plain": [
       "array([[-21.443644 ,  -3.9409683,  44.390884 ,  44.129562 ]],\n",
       "      dtype=float32)"
      ]
     },
     "execution_count": 66,
     "metadata": {},
     "output_type": "execute_result"
    }
   ],
   "source": [
    "action"
   ]
  },
  {
   "cell_type": "code",
   "execution_count": null,
   "metadata": {},
   "outputs": [],
   "source": []
  }
 ],
 "metadata": {
  "kernelspec": {
   "display_name": "Python 3",
   "language": "python",
   "name": "python3"
  },
  "language_info": {
   "codemirror_mode": {
    "name": "ipython",
    "version": 3
   },
   "file_extension": ".py",
   "mimetype": "text/x-python",
   "name": "python",
   "nbconvert_exporter": "python",
   "pygments_lexer": "ipython3",
   "version": "3.5.2"
  }
 },
 "nbformat": 4,
 "nbformat_minor": 2
}
